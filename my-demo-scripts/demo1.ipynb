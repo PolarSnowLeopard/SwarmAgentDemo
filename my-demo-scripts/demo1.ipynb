{
 "cells": [
  {
   "cell_type": "code",
   "execution_count": 1,
   "metadata": {},
   "outputs": [
    {
     "name": "stderr",
     "output_type": "stream",
     "text": [
      "/opt/anaconda3/envs/swarm/lib/python3.10/site-packages/tqdm/auto.py:21: TqdmWarning: IProgress not found. Please update jupyter and ipywidgets. See https://ipywidgets.readthedocs.io/en/stable/user_install.html\n",
      "  from .autonotebook import tqdm as notebook_tqdm\n"
     ]
    },
    {
     "name": "stdout",
     "output_type": "stream",
     "text": [
      "* Running on local URL:  http://127.0.0.1:7861\n",
      "\n",
      "To create a public link, set `share=True` in `launch()`.\n"
     ]
    },
    {
     "data": {
      "text/html": [
       "<div><iframe src=\"http://127.0.0.1:7861/\" width=\"100%\" height=\"500\" allow=\"autoplay; camera; microphone; clipboard-read; clipboard-write;\" frameborder=\"0\" allowfullscreen></iframe></div>"
      ],
      "text/plain": [
       "<IPython.core.display.HTML object>"
      ]
     },
     "metadata": {},
     "output_type": "display_data"
    },
    {
     "data": {
      "text/plain": []
     },
     "execution_count": 1,
     "metadata": {},
     "output_type": "execute_result"
    },
    {
     "name": "stdout",
     "output_type": "stream",
     "text": [
      "lat: 31.3385, lon: 121.502\n"
     ]
    },
    {
     "ename": "",
     "evalue": "",
     "output_type": "error",
     "traceback": [
      "\u001b[1;31m在当前单元格或上一个单元格中执行代码时 Kernel 崩溃。\n",
      "\u001b[1;31m请查看单元格中的代码，以确定故障的可能原因。\n",
      "\u001b[1;31m单击<a href='https://aka.ms/vscodeJupyterKernelCrash'>此处</a>了解详细信息。\n",
      "\u001b[1;31m有关更多详细信息，请查看 Jupyter <a href='command:jupyter.viewOutput'>log</a>。"
     ]
    }
   ],
   "source": [
    "import folium\n",
    "import gradio as gr\n",
    "\n",
    "def generate_map(lat, lon):\n",
    "    print(f\"lat: {lat}, lon: {lon}\")\n",
    "    \n",
    "    # 创建地图，中心点为输入的坐标\n",
    "    m = folium.Map(\n",
    "        location=[lat, lon],\n",
    "        zoom_start=15,  # 设置初始缩放级别\n",
    "        tiles='OpenStreetMap'  # 使用 OpenStreetMap 底图\n",
    "    )\n",
    "    \n",
    "    # 添加标记\n",
    "    folium.Marker(\n",
    "        location=[lat, lon],\n",
    "        popup=f\"位置: {lat}, {lon}\",  # 点击标记时显示的信息\n",
    "        icon=folium.Icon(color='red')  # 设置标记样式\n",
    "    ).add_to(m)\n",
    "    \n",
    "    # 保存到临时HTML文件\n",
    "    map_html = m._repr_html_()\n",
    "    return map_html\n",
    "\n",
    "# 创建 Gradio 接口\n",
    "interface = gr.Interface(\n",
    "    fn=generate_map,\n",
    "    inputs=[\n",
    "        gr.Number(label=\"Latitude\", value=31.3385, precision=8),\n",
    "        gr.Number(label=\"Longitude\", value=121.5020, precision=8)\n",
    "    ],\n",
    "    outputs=gr.HTML(),  # 使用 HTML 输出\n",
    "    cache_examples=False\n",
    ")\n",
    "\n",
    "interface.launch()"
   ]
  }
 ],
 "metadata": {
  "kernelspec": {
   "display_name": "swarm",
   "language": "python",
   "name": "python3"
  },
  "language_info": {
   "codemirror_mode": {
    "name": "ipython",
    "version": 3
   },
   "file_extension": ".py",
   "mimetype": "text/x-python",
   "name": "python",
   "nbconvert_exporter": "python",
   "pygments_lexer": "ipython3",
   "version": "3.10.15"
  }
 },
 "nbformat": 4,
 "nbformat_minor": 2
}
