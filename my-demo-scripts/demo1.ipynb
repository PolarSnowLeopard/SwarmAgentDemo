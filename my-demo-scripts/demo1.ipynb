{
 "cells": [
  {
   "cell_type": "code",
   "execution_count": 1,
   "metadata": {},
   "outputs": [
    {
     "name": "stderr",
     "output_type": "stream",
     "text": [
      "e:\\zfy\\anaconda3\\envs\\swarm\\lib\\site-packages\\tqdm\\auto.py:21: TqdmWarning: IProgress not found. Please update jupyter and ipywidgets. See https://ipywidgets.readthedocs.io/en/stable/user_install.html\n",
      "  from .autonotebook import tqdm as notebook_tqdm\n"
     ]
    },
    {
     "name": "stdout",
     "output_type": "stream",
     "text": [
      "* Running on local URL:  http://127.0.0.1:7860\n",
      "\n",
      "To create a public link, set `share=True` in `launch()`.\n"
     ]
    },
    {
     "data": {
      "text/html": [
       "<div><iframe src=\"http://127.0.0.1:7860/\" width=\"100%\" height=\"500\" allow=\"autoplay; camera; microphone; clipboard-read; clipboard-write;\" frameborder=\"0\" allowfullscreen></iframe></div>"
      ],
      "text/plain": [
       "<IPython.core.display.HTML object>"
      ]
     },
     "metadata": {},
     "output_type": "display_data"
    },
    {
     "data": {
      "text/plain": []
     },
     "execution_count": 1,
     "metadata": {},
     "output_type": "execute_result"
    },
    {
     "name": "stdout",
     "output_type": "stream",
     "text": [
      "lat: 31.3385, lon: 121.502\n"
     ]
    }
   ],
   "source": [
    "import folium\n",
    "import gradio as gr\n",
    "\n",
    "def generate_map(lat, lon):\n",
    "    print(f\"lat: {lat}, lon: {lon}\")\n",
    "    \n",
    "    # 创建地图，中心点为输入的坐标\n",
    "    m = folium.Map(\n",
    "        location=[lat, lon],\n",
    "        zoom_start=15,  # 设置初始缩放级别\n",
    "        tiles='OpenStreetMap'  # 使用 OpenStreetMap 底图\n",
    "    )\n",
    "    \n",
    "    # 添加标记\n",
    "    folium.Marker(\n",
    "        location=[lat, lon],\n",
    "        popup=f\"位置: {lat}, {lon}\",  # 点击标记时显示的信息\n",
    "        icon=folium.Icon(color='red')  # 设置标记样式\n",
    "    ).add_to(m)\n",
    "    \n",
    "    # 保存到临时HTML文件\n",
    "    map_html = m._repr_html_()\n",
    "    return map_html\n",
    "\n",
    "# 创建 Gradio 接口\n",
    "interface = gr.Interface(\n",
    "    fn=generate_map,\n",
    "    inputs=[\n",
    "        gr.Number(label=\"Latitude\", value=31.3385, precision=8),\n",
    "        gr.Number(label=\"Longitude\", value=121.5020, precision=8)\n",
    "    ],\n",
    "    outputs=gr.HTML(),  # 使用 HTML 输出\n",
    "    cache_examples=False\n",
    ")\n",
    "\n",
    "interface.launch()"
   ]
  },
  {
   "cell_type": "code",
   "execution_count": 1,
   "metadata": {},
   "outputs": [
    {
     "name": "stderr",
     "output_type": "stream",
     "text": [
      "e:\\zfy\\anaconda3\\envs\\swarm\\lib\\site-packages\\tqdm\\auto.py:21: TqdmWarning: IProgress not found. Please update jupyter and ipywidgets. See https://ipywidgets.readthedocs.io/en/stable/user_install.html\n",
      "  from .autonotebook import tqdm as notebook_tqdm\n"
     ]
    },
    {
     "name": "stdout",
     "output_type": "stream",
     "text": [
      "* Running on local URL:  http://127.0.0.1:7861\n",
      "\n",
      "To create a public link, set `share=True` in `launch()`.\n"
     ]
    },
    {
     "data": {
      "text/html": [
       "<div><iframe src=\"http://127.0.0.1:7861/\" width=\"100%\" height=\"500\" allow=\"autoplay; camera; microphone; clipboard-read; clipboard-write;\" frameborder=\"0\" allowfullscreen></iframe></div>"
      ],
      "text/plain": [
       "<IPython.core.display.HTML object>"
      ]
     },
     "metadata": {},
     "output_type": "display_data"
    },
    {
     "data": {
      "text/plain": []
     },
     "execution_count": 1,
     "metadata": {},
     "output_type": "execute_result"
    },
    {
     "name": "stdout",
     "output_type": "stream",
     "text": [
      "160.67240031784797\n"
     ]
    }
   ],
   "source": [
    "import folium\n",
    "import gradio as gr\n",
    "from itertools import permutations\n",
    "\n",
    "import math\n",
    "\n",
    "def calculate_distance(point1, point2):\n",
    "    \"\"\"计算两个点之间的距离，以米为单位\"\"\"\n",
    "    # 将纬度和经度从度转换为弧度\n",
    "    lat1, lon1 = map(math.radians, point1)\n",
    "    lat2, lon2 = map(math.radians, point2)\n",
    "    \n",
    "    # Haversine公式\n",
    "    dlat = lat2 - lat1\n",
    "    dlon = lon2 - lon1\n",
    "    a = math.sin(dlat / 2) ** 2 + math.cos(lat1) * math.cos(lat2) * math.sin(dlon / 2) ** 2\n",
    "    c = 2 * math.asin(math.sqrt(a))\n",
    "    \n",
    "    # 地球的平均半径，单位为米\n",
    "    r = 6371000\n",
    "    return c * r\n",
    "\n",
    "def find_shortest_path(start, end, waypoints):\n",
    "    \"\"\"找到从起点到终点经过所有途经点的最短路径\"\"\"\n",
    "    all_points = [start] + waypoints + [end]\n",
    "    waypoints_permutations = permutations(waypoints)\n",
    "    shortest_path = None\n",
    "    shortest_distance = float('inf')\n",
    "    \n",
    "    for perm in waypoints_permutations:\n",
    "        current_path = [start] + list(perm) + [end]\n",
    "        current_distance = sum(calculate_distance(current_path[i], current_path[i+1]) for i in range(len(current_path) - 1))\n",
    "        \n",
    "        if current_distance < shortest_distance:\n",
    "            shortest_distance = current_distance\n",
    "            shortest_path = current_path\n",
    "    \n",
    "    return shortest_path, shortest_distance\n",
    "\n",
    "def generate_map_with_path(start, end, waypoints):\n",
    "    # 创建地图，中心点为起始点\n",
    "    m = folium.Map(\n",
    "        location=start,\n",
    "        zoom_start=18,\n",
    "        tiles='OpenStreetMap'\n",
    "    )\n",
    "    \n",
    "    # 计算最短路径\n",
    "    shortest_path, _ = find_shortest_path(start, end, waypoints)\n",
    "    print(_)\n",
    "    \n",
    "    # 在地图上绘制路径\n",
    "    folium.PolyLine(locations=shortest_path, color='blue').add_to(m)\n",
    "    \n",
    "    # 添加起始点和终止点标记\n",
    "    folium.Marker(location=start, popup=\"起始点\", icon=folium.Icon(color='green')).add_to(m)\n",
    "    folium.Marker(location=end, popup=\"终止点\", icon=folium.Icon(color='red')).add_to(m)\n",
    "    \n",
    "    # 添加途经点标记\n",
    "    for waypoint in waypoints:\n",
    "        folium.Marker(location=waypoint, popup=\"途经点\", icon=folium.Icon(color='orange')).add_to(m)\n",
    "    \n",
    "    map_html = m._repr_html_()\n",
    "    return map_html\n",
    "\n",
    "def parse_points(points_str):\n",
    "    \"\"\"解析输入的坐标字符串为列表\"\"\"\n",
    "    points = []\n",
    "    for point_str in points_str.split(';'):\n",
    "        lat, lon = map(float, point_str.split(','))\n",
    "        points.append((lat, lon))\n",
    "    return points\n",
    "\n",
    "# 创建 Gradio 接口\n",
    "interface = gr.Interface(\n",
    "    fn=lambda start, end, waypoints: generate_map_with_path(\n",
    "        parse_points(start)[0],\n",
    "        parse_points(end)[0],\n",
    "        parse_points(waypoints)\n",
    "    ),\n",
    "    inputs=[\n",
    "        gr.Textbox(label=\"起始点 (格式: lat,lon)\",value=\"31.3385, 121.5020\"),\n",
    "        gr.Textbox(label=\"终止点 (格式: lat,lon)\",value=\"31.3389, 121.5025\"),\n",
    "        gr.Textbox(label=\"途经点 (格式: lat,lon;lat,lon;...)\", value=\"31.3384, 121.5019; 31.3387, 121.5018; 31.3384, 121.5023\")\n",
    "    ],\n",
    "    outputs=gr.HTML(),\n",
    "    cache_examples=False\n",
    ")\n",
    "\n",
    "interface.launch()"
   ]
  }
 ],
 "metadata": {
  "kernelspec": {
   "display_name": "swarm",
   "language": "python",
   "name": "python3"
  },
  "language_info": {
   "codemirror_mode": {
    "name": "ipython",
    "version": 3
   },
   "file_extension": ".py",
   "mimetype": "text/x-python",
   "name": "python",
   "nbconvert_exporter": "python",
   "pygments_lexer": "ipython3",
   "version": "3.10.15"
  }
 },
 "nbformat": 4,
 "nbformat_minor": 2
}
